{
  "metadata": {
    "kernelspec": {
      "name": "xpython",
      "display_name": "Python 3.13 (XPython)",
      "language": "python"
    },
    "language_info": {
      "file_extension": ".py",
      "mimetype": "text/x-python",
      "name": "python",
      "version": "3.13.1"
    }
  },
  "nbformat_minor": 5,
  "nbformat": 4,
  "cells": [
    {
      "id": "e84b3520-3504-4c43-927c-4a8c9983d058",
      "cell_type": "markdown",
      "source": "A practical application of OOP to create parents and children in a family tree!\n\n1. Parent is the main class, obviously ;)\n2. Its attributes defined. Feel free to add or take out attributes\n3. Parent behaviors are also defined. Includes how they walk and talk. Other behaviours can be created\n4. Objects are finally created (Parent names, children names)\n5. Further code can be written to check if parameters are assigned correctly to objects\n\nFeedback, suggestions all welcome!",
      "metadata": {}
    },
    {
      "id": "50c2a330-28f9-4ff8-9d1a-3e54b1445a61",
      "cell_type": "code",
      "source": "class Parent:\n    def __init__(self, name, age, hometown, psychology):\n        self.name = name\n        self.age = age\n        self.hometown = hometown\n        self.psychology = psychology\n\n    def __str__(self):\n        return f'My name is {self.name}, I am {self.age} years old, from {self.hometown} and I am {self.psychology}'\n\n    def talk(self, language):\n        return f'{self.name} speaks {language}'\n        \n    def walk(self, style):\n        return f'{self.name} walks {style}, which is sometimes funny'\n\nPat = Parent('Patrick', 50, 'Essex', 'Logical')\nClara = Parent('Clara', 48, 'Cape Coast', 'Nurturing')\n\nprint(Pat.walk('clumsily'))\n\nclass Child(Parent):\n    pass\n    \nTony = Child('Tony', 37, 'Accra', 'Driven')\nprint(Tony.talk('English'))",
      "metadata": {
        "trusted": true
      },
      "outputs": [
        {
          "name": "stdout",
          "output_type": "stream",
          "text": "Patrick walks clumsily, which is sometimes funny\nTony speaks English\n"
        }
      ],
      "execution_count": 6
    },
    {
      "id": "cfaa98f1-c067-4797-8cbd-115a55be4054",
      "cell_type": "code",
      "source": "",
      "metadata": {
        "trusted": true
      },
      "outputs": [],
      "execution_count": null
    }
  ]
}
{
  "metadata": {
    "kernelspec": {
      "name": "xpython",
      "display_name": "Python 3.13 (XPython)",
      "language": "python"
    },
    "language_info": {
      "file_extension": ".py",
      "mimetype": "text/x-python",
      "name": "python",
      "version": "3.13.1"
    }
  },
  "nbformat_minor": 5,
  "nbformat": 4,
  "cells": [
    {
      "id": "d61ae614-db88-4732-aecb-4da9e9045069",
      "cell_type": "code",
      "source": "# A Simple Object-Oriented Car Factory\n\nclass Car:\n# Attributes\n    def __init__(self, colour, mileage):\n        self.colour = colour\n        self.mileage = mileage\n\n# Instance methods\n    \n    def __str__(self):\n        return f\"{self.colour} already has {self.mileage} miles\"\n    def gas(self, type_gas):\n        return f\"{self.colour} uses {type_gas} all the time\"\n        \n# Class Objects \n\nblue = Car('blue', 20000)\nred = Car('red', 30000)  \n        \nprint(red)\nprint(blue)\nblue.gas('petrol')\nred.gas('diesel')",
      "metadata": {
        "trusted": true
      },
      "outputs": [
        {
          "name": "stdout",
          "output_type": "stream",
          "text": "red already has 30000 miles\nblue already has 20000 miles\n"
        },
        {
          "execution_count": 11,
          "output_type": "execute_result",
          "data": {
            "text/plain": "'red uses diesel all the time'"
          },
          "metadata": {}
        }
      ],
      "execution_count": 11
    },
    {
      "id": "c99fa046-eb68-48a1-88fa-82522b6f81bd",
      "cell_type": "code",
      "source": "# A family Tree\n\nclass Parent:\n    def __init__(self, name, age, hometown, psychology):\n        self.name = name\n        self.age = age\n        self.hometown = hometown\n        self.psychology = psychology\n\n    def __str__(self):\n        return f'My name is {self.name}, I am {self.age} years old, from {self.hometown} and I am {self.psychology}'\n\n    def head(self, size):\n        return f'My head shape is {self.size}'\n        \n    def walk(self, style):\n        return f'{self.name} walks {style}, which is funny'\n\nPat = Parent('Patrick', 50, 'Essex', 'Logical')\nClara = Parent('Clara', 48, 'Cape Coast', 'Nurturing')\n\nprint(Pat.walk('galavantly'))\n\nclass Child(Parent):\n    pass\nTony = Child('Tony', 37, 'Accra', 'Driven')\nprint(Tony.walk('poignantly'))",
      "metadata": {
        "trusted": true
      },
      "outputs": [
        {
          "name": "stdout",
          "output_type": "stream",
          "text": "Patrick walks galavantly, which is funny\nTony walks poignantly, which is funny\n"
        }
      ],
      "execution_count": 13
    },
    {
      "id": "10a0b499-085c-4577-85b3-ca619e9500bf",
      "cell_type": "code",
      "source": "# Dog pound: Applying Class Inheritance\n\nclass Dog:\n    def __init__(self, name, age):\n        self.name = name\n        self.age = age\n\n    def __str__(self):\n        return f'{self.name} is {self.age} years old'\n\n    def speak(self, sound):\n        return f'{self.name} says {sound}'\n\nclass GoldenRetriever(Dog):\n    def speak(self, sound = 'Bark'):\n        return super().speak(sound)\n        return f'{self.name} cries: {sound}'\n\nKwasi = GoldenRetriever('Kwasi', 4)\n\nprint(Kwasi.speak())",
      "metadata": {
        "trusted": true
      },
      "outputs": [
        {
          "name": "stdout",
          "output_type": "stream",
          "text": "Kwasi says Bark\n"
        }
      ],
      "execution_count": 14
    },
    {
      "id": "a236fc2b-d28a-44ba-b38c-61b60809b824",
      "cell_type": "code",
      "source": "# Vehicle Tracker Program\n\nclass Vehicle:\n    def __init__(self, type, brand, speed):        #type is not the in-built python function\n        self.type = type\n        self.brand = brand\n        self.speed = speed\n\n    def __str__(self):\n        return f'The {self.brand} {self.type} vehicle travels at {self.speed}k/h'\n        \n    def Vehicle_acc(self, speed):\n        print('Vehicle speed increases by', self.speed * 2,'k/h')\n        \n    def Vehicle_dec(self, speed):\n        print('Vehicle speed decreases by', self.speed / 2,'k/h')\n\nV1 = Vehicle('SUV', 'Nissan', 50)\nV2 = Vehicle('Saloon', 'Toyota', 70)\nV3 = Vehicle('Pickup', 'Ram', 75)\n\nV1.__str__()\nV1.Vehicle_acc(10)\n\nclass ElectricVehicle(Vehicle):\n    def __init__(self, type, brand, speed, battery_level):\n        super().__init__(type, brand, speed)\n        self.battery_level = battery_level\n\n    def charge(self, battery_level):\n        increase = battery_level * 3\n        return increase\n\n\nE1 = ElectricVehicle('Electric','Tesla', 35, 12.5)\n\nE1.charge(14)\n",
      "metadata": {
        "trusted": true
      },
      "outputs": [],
      "execution_count": null
    }
  ]
}
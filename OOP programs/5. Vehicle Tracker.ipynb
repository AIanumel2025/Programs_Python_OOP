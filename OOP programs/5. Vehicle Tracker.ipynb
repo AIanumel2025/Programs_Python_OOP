{
  "metadata": {
    "kernelspec": {
      "name": "xpython",
      "display_name": "Python 3.13 (XPython)",
      "language": "python"
    },
    "language_info": {
      "file_extension": ".py",
      "mimetype": "text/x-python",
      "name": "python",
      "version": "3.13.1"
    }
  },
  "nbformat_minor": 5,
  "nbformat": 4,
  "cells": [
    {
      "id": "e84b3520-3504-4c43-927c-4a8c9983d058",
      "cell_type": "markdown",
      "source": "Vehicle Tracker Program\n\n1. Encapsulates all the elements of an OOP\n2. \nFeedback, suggestions all welcome! ",
      "metadata": {}
    },
    {
      "id": "50c2a330-28f9-4ff8-9d1a-3e54b1445a61",
      "cell_type": "code",
      "source": "# Vehicle Tracker Program\n\nclass Vehicle:\n    def __init__(self, type, brand, speed):        #type is not the in-built python function\n        self.type = type\n        self.brand = brand\n        self.speed = speed\n\n    def __str__(self):\n        return f'The {self.brand} {self.type} vehicle travels at {self.speed}km/h'\n        \n    def Vehicle_acc(self, speed):\n        print('Vehicle speed increases by', self.speed * 2,'km/h')\n        \n    def Vehicle_dec(self, speed):\n        print('Vehicle speed decreases by', self.speed / 2,'km/h')\n\nV1 = Vehicle('SUV', 'Nissan', 50)\nV2 = Vehicle('Saloon', 'Toyota', 70)\nV3 = Vehicle('Pickup', 'Ram', 75)\n\nV1.__str__()\nV1.Vehicle_acc(10)\n\nclass ElectricVehicle(Vehicle):\n    def __init__(self, type, brand, speed, battery_level):\n        super().__init__(type, brand, speed)\n        self.battery_level = battery_level\n\n    def charge(self, battery_level):\n        increase = battery_level * 3\n        return increase\n\n\nE1 = ElectricVehicle('Electric','Tesla', 35, 12.5)\n\nE1.charge(14)\n",
      "metadata": {
        "trusted": true
      },
      "outputs": [
        {
          "name": "stdout",
          "output_type": "stream",
          "text": "Vehicle speed increases by 100 km/h\n"
        },
        {
          "execution_count": 8,
          "output_type": "execute_result",
          "data": {
            "text/plain": "42"
          },
          "metadata": {}
        }
      ],
      "execution_count": 8
    },
    {
      "id": "cfaa98f1-c067-4797-8cbd-115a55be4054",
      "cell_type": "code",
      "source": "",
      "metadata": {
        "trusted": true
      },
      "outputs": [],
      "execution_count": null
    }
  ]
}
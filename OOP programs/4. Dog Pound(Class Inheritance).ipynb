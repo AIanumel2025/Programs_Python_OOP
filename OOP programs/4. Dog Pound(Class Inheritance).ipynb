{
  "metadata": {
    "kernelspec": {
      "name": "xpython",
      "display_name": "Python 3.13 (XPython)",
      "language": "python"
    },
    "language_info": {
      "file_extension": ".py",
      "mimetype": "text/x-python",
      "name": "python",
      "version": "3.13.1"
    }
  },
  "nbformat_minor": 5,
  "nbformat": 4,
  "cells": [
    {
      "id": "e84b3520-3504-4c43-927c-4a8c9983d058",
      "cell_type": "markdown",
      "source": "Applying Class inheritance \n\n1. Similar to Dog pound example, however, subclass(GoldenRetriever) is introduced\n2. Code must be written to \n\nFeedback, suggestions all welcome! Expand as far as you can go!",
      "metadata": {}
    },
    {
      "id": "50c2a330-28f9-4ff8-9d1a-3e54b1445a61",
      "cell_type": "code",
      "source": "class Dog:\n    def __init__(self, name, age):       # Dog Features\n        self.name = name\n        self.age = age\n                                         # Dog attributes\n    def __str__(self):\n        return f'{self.name} is {self.age} years old'\n\n    def speak(self, sound):\n        return f'{self.name} says {sound}'\n                                        # Sub class\nclass GoldenRetriever(Dog):\n    def speak(self, sound = 'Bark'):\n        return super().speak(sound)\n        return f'{self.name} cries: {sound}'\n\nKwasi = GoldenRetriever('Kwasi', 4)\nprint(Kwasi.speak())",
      "metadata": {
        "trusted": true
      },
      "outputs": [
        {
          "name": "stdout",
          "output_type": "stream",
          "text": "Kwasi says Bark\n"
        }
      ],
      "execution_count": 7
    },
    {
      "id": "cfaa98f1-c067-4797-8cbd-115a55be4054",
      "cell_type": "code",
      "source": "",
      "metadata": {
        "trusted": true
      },
      "outputs": [],
      "execution_count": null
    }
  ]
}
{
  "metadata": {
    "kernelspec": {
      "name": "xpython",
      "display_name": "Python 3.13 (XPython)",
      "language": "python"
    },
    "language_info": {
      "file_extension": ".py",
      "mimetype": "text/x-python",
      "name": "python",
      "version": "3.13.1"
    }
  },
  "nbformat_minor": 5,
  "nbformat": 4,
  "cells": [
    {
      "id": "e84b3520-3504-4c43-927c-4a8c9983d058",
      "cell_type": "markdown",
      "source": "An simple application of OOP to create a Car Factory!\n\n1. Class is Car, which defines the blueprint of the program.\n2. Its features are also defined. The features are its colour and mileage\n3. Behaviors are also defined. These are written as methods which return particular outputs\n4. Objects are finally created (blue car, red car)\n\nFeedback, suggestions all welcome!",
      "metadata": {}
    },
    {
      "id": "50c2a330-28f9-4ff8-9d1a-3e54b1445a61",
      "cell_type": "code",
      "source": "class Car:\n    def __init__(self, colour, mileage):      # Features\n        self.colour = colour\n        self.mileage = mileage\n\n# Instance methods/attributes\n    \n    def __str__(self):\n        return f\"{self.colour} already has {self.mileage} miles\"\n    def gas(self, type_gas):\n        return f\"{self.colour} uses {type_gas} all the time\"\n        \n# Assign parameters to attributes/features (Creating Objects)\n\nblue = Car('blue', 20000)\nred = Car('red', 30000)  \n        \nprint(red)\nprint(blue)",
      "metadata": {
        "trusted": true
      },
      "outputs": [],
      "execution_count": null
    }
  ]
}
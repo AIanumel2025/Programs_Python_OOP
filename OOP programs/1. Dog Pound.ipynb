{
  "metadata": {
    "kernelspec": {
      "name": "xpython",
      "display_name": "Python 3.13 (XPython)",
      "language": "python"
    },
    "language_info": {
      "file_extension": ".py",
      "mimetype": "text/x-python",
      "name": "python",
      "version": "3.13.1"
    }
  },
  "nbformat_minor": 5,
  "nbformat": 4,
  "cells": [
    {
      "id": "e84b3520-3504-4c43-927c-4a8c9983d058",
      "cell_type": "markdown",
      "source": "An simple application of OOP to create a family of dogs\n1. Class is Dog, which defines the blueprint of the program.\n2. Its features are also defined. The features are its name and age\n3. Attributes are also defined. These are written as methods which return particular outputs\n4. Objects are finally created (Toby, Shank, Elijah). These are different kinds of dogs\n\nFeedback, suggestions all welcome!",
      "metadata": {}
    },
    {
      "id": "8ccac2fa-5b6b-4cb9-933c-b160ab6d838e",
      "cell_type": "code",
      "source": "class Dog:\n    def __init__(self, name, age):\n        self.name = name\n        self.age = age\n    \n# Instance method\n    def __str__(self):\n        return f\"{self.name} is {self.age} years old\"\n\n# Another instance method\n    def speak(self, sound='Boom'):\n        return f\"{self.name} says {sound}\"\n\n# Another instance method\n    def walk(self, walk_sound):\n        return f\"{self.name} walks fast and it sounds like {walk_sound}\"\n\n# Assign parameters to class attributes\n\nToby = Dog('Toby', 12)\nShank = Dog('Skank', 8)\nElijah = Dog('Elijah', 5)\n\nprint(Skank.speak())",
      "metadata": {
        "trusted": true
      },
      "outputs": [],
      "execution_count": null
    }
  ]
}
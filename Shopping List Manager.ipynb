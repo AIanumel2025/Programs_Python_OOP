{
  "metadata": {
    "kernelspec": {
      "name": "python",
      "display_name": "Python (Pyodide)",
      "language": "python"
    },
    "language_info": {
      "codemirror_mode": {
        "name": "python",
        "version": 3
      },
      "file_extension": ".py",
      "mimetype": "text/x-python",
      "name": "python",
      "nbconvert_exporter": "python",
      "pygments_lexer": "ipython3",
      "version": "3.8"
    }
  },
  "nbformat_minor": 5,
  "nbformat": 4,
  "cells": [
    {
      "id": "bb17c6f4-05e3-4b78-a5d2-b18b7a7f2978",
      "cell_type": "code",
      "source": "# Create a shopping list manager\nshopping_list = []\n\n# Add items to the list\nwhile True:\n    new_item = input(\"Add item (or 'done' to finish): \")\n    if new_item == \"done\":\n        break\n    if new_item in shopping_list:\n        print(\"Error: Item already on the list!\")\n    else:\n        shopping_list.append(new_item)\nprint(\"This week's shopping list:\", shopping_list)\n\n# Remove items from the list\n\nwhile True:\n    remove = input('Remove items? (Y/N): ')\n    if remove == 'Y':\n        item = input('Item to remove: ')\n        if item in shopping_list:\n            shopping_list.remove(item)\n        else:\n            print('Error! Item not in list!')\n    elif remove == 'N':\n        break\n    else:\n        print('Please enter Y or N.')\nprint('Success!')\nprint('Your final list:', shopping_list)\n\n# Exit phase\n\nwhile True:\n    exit = input('Exit? (Y/N): ')\n    if exit == 'Y':\n        print('Happy Shopping!')\n        break\n    elif exit == 'N':\n        act = input('Add or Remove (A/R)?: ')\n        if act == 'A':\n            new_item = input(\"Add item (or 'done' to finish): \")\n            if new_item in shopping_list:\n                print('Error, Item already on the list!')\n            else:\n                shopping_list.append(new_item)\n        elif act == 'R':\n            item = input('Item to remove: ')\n            if item in shopping_list:\n                shopping_list.remove(item)\n            else:\n                print('Error, Item not in list!')\n        else:\n            print('Please enter A/R.')\n        print('Your finalized list:', shopping_list)\n    else:\n        print('Please enter Y/N.')\n        ",
      "metadata": {
        "trusted": true
      },
      "outputs": [
        {
          "output_type": "stream",
          "name": "stdin",
          "text": "Add item (or 'done' to finish):  Fish\nAdd item (or 'done' to finish):  Eggs\nAdd item (or 'done' to finish):  Tomatoes\nAdd item (or 'done' to finish):  Catfish\nAdd item (or 'done' to finish):  timestables\nAdd item (or 'done' to finish):  Carrots\nAdd item (or 'done' to finish):  ions\nAdd item (or 'done' to finish):  Cabbage\nAdd item (or 'done' to finish):  Iops\nAdd item (or 'done' to finish):  toppings\n"
        }
      ],
      "execution_count": null
    },
    {
      "id": "f93acf8e-255e-4bf8-ac5a-7ee8b3b4b580",
      "cell_type": "code",
      "source": "",
      "metadata": {
        "trusted": true
      },
      "outputs": [],
      "execution_count": null
    }
  ]
}
